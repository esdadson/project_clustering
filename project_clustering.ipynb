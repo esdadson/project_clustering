{
 "cells": [
  {
   "cell_type": "markdown",
   "id": "c06a88cc",
   "metadata": {},
   "source": [
    "# Project\n",
    "\n",
    "## DSC495-015 Scientific Programming with Python\n",
    "### Contributer: Evan Dadson"
   ]
  },
  {
   "cell_type": "markdown",
   "id": "91f3755f",
   "metadata": {},
   "source": [
    "### Project Description\n",
    "For this project I aim to \n",
    "\n",
    "* (a) implement a clustering algorithm of my choice, and \n",
    "* (b) compare my implementation on 1 to 2 datasets.\n",
    "\n",
    "### Algorithm Choice: K-means\n",
    "\n",
    "The K-means algorithm is known for it's simplicity and can be broken down into three steps. \n",
    "\n",
    "* Choose the amount of centroids ($k$) to create and starting data points for the centroids.\n",
    "* Assign each data point to the closest centroid.\n",
    "* Reassign the centroid as the mean of data points assigned to centroid $i$ in $k$.\n",
    "\n",
    "The algorithm repeats the last two steps until a maximum amount of iterations has been reached or until the centroid means move by less than some specified threshold value (e.g. 1e-4). For my implementation, I will specify a maximum amount of iterations but not a threshold value."
   ]
  },
  {
   "cell_type": "code",
   "execution_count": 2,
   "id": "b0a4d4cf",
   "metadata": {},
   "outputs": [],
   "source": [
    "# Importing libraries for implementation\n",
    "import numpy as np\n",
    "import pandas as pd\n",
    "import random\n",
    "import math\n",
    "import matplotlib.pyplot as plt"
   ]
  },
  {
   "cell_type": "code",
   "execution_count": 3,
   "id": "c5047ce6",
   "metadata": {},
   "outputs": [],
   "source": [
    "# Define euclidean distances for assigning data points to centroids\n",
    "def euclid_distances(a,b, **kwargs):\n",
    "    \"\"\"\n",
    "    Definition for computing the euclidean distance between two points.\n",
    "    input: a,b two data points of size n\n",
    "    output: distances between points\n",
    "    \"\"\"\n",
    "    distances = np.linalg.norm(a-b, axis=1)\n",
    "    return distances  "
   ]
  },
  {
   "cell_type": "code",
   "execution_count": 4,
   "id": "964f5e9f",
   "metadata": {},
   "outputs": [],
   "source": [
    "# My implementation of the KMeans algorithm using iterative assignment of data vectors to clusters.\n",
    "class KMean_dadson:\n",
    "    \"\"\"\n",
    "    The KMean_dadson class implements the K-means algorithm on a set of data vectors.\n",
    "    \n",
    "    Attributes\n",
    "        ~ n_clusters: chosen number of clusters to use in algorithm.\n",
    "        ~ max_iter: maximum amount of updates to be made to the starting centroids.\n",
    "        \n",
    "    Methods:\n",
    "        random_init(data,n_clusters)\n",
    "    \"\"\"\n",
    "    def __init__(self, n_clusters, max_iter = 300):\n",
    "        \"\"\"\n",
    "        This is the constructor for the class.\n",
    "        \"\"\"\n",
    "        self.n_clusters = n_clusters\n",
    "        self.max_iter=max_iter\n",
    "        \n",
    "    def random_init(self, data, **kwargs):\n",
    "        \"\"\"\n",
    "        Randomly assign starting centroids to points in the dataset.\n",
    "        Input: data of size m x n\n",
    "        input: **kwargs is any other input\n",
    "        Return: initialized centroids\n",
    "        \"\"\"\n",
    "        # dimensions of data vectors m x n\n",
    "        m,n = data.shape\n",
    "        \n",
    "        # initialize array to store k centroids of size n\n",
    "        centroids = np.empty([self.n_clusters,n])\n",
    "        \n",
    "        # assign centroids by picking random data vectors\n",
    "        for k in range(self.n_clusters):\n",
    "            random_int = np.random.randint(m)\n",
    "            centroids[k] = data[random_int,:]\n",
    "            \n",
    "        return centroids\n",
    "    \n",
    "    def assignment(self, data, **kwargs):\n",
    "        \"\"\"\n",
    "        Assingns the data points to the closest centroid and updates the centroids until max iteration.\n",
    "        input: data of size m x n\n",
    "        input: **kwargs is any other input\n",
    "        return: centroids array of k x n data vectors\n",
    "        return: clusters array of size m with classifications\n",
    "        \"\"\"\n",
    "        # dimensions of the data stored for use\n",
    "        m,n = data.shape\n",
    "        \n",
    "        # use the random_init method to randomly initialize the starting centroids\n",
    "        centroids = self.random_init(data)\n",
    "        \n",
    "        # define clusters to be an array of size m\n",
    "        clusters = np.zeros(m)\n",
    "        \n",
    "        # define distances to be an array of size m x k\n",
    "        distances = np.zeros([m,self.n_clusters])\n",
    "        \n",
    "        # iterate over maximum number of iterations\n",
    "        for i in range(self.max_iter):\n",
    "            \n",
    "            # take distances from data points to centroids\n",
    "            for k in range(self.n_clusters):\n",
    "                distances[:,k] = euclid_distances(centroids[k],data)\n",
    "            \n",
    "            # assigns data points to a cluster defined by the index of the closest cluster\n",
    "            clusters = np.argmin(distances,axis=1)\n",
    "            \n",
    "            # reassign the centroids to be the mean of data points in each cluster\n",
    "            for k in range(self.n_clusters):\n",
    "                centroids[k] = np.mean(data[clusters == k],0)\n",
    "                \n",
    "        return (centroids,clusters)\n",
    "    \n",
    "    def __call__(self,data):\n",
    "        \"\"\"\n",
    "        Allows us to run the assignment method without calling the method.\n",
    "        \"\"\"\n",
    "        return self.assignment(data)"
   ]
  },
  {
   "cell_type": "markdown",
   "id": "aa8adbbf",
   "metadata": {},
   "source": [
    "### Testing Implementation"
   ]
  },
  {
   "cell_type": "code",
   "execution_count": 5,
   "id": "4750860f",
   "metadata": {},
   "outputs": [
    {
     "name": "stdout",
     "output_type": "stream",
     "text": [
      "Test 1\n",
      "The number of data vectors determined to be 100 but is actually 100\n",
      "The absolute error is 0\n",
      "\n",
      "\n",
      "Test 2\n",
      "The dimension of the data is determined to be 2 but is actually 2\n",
      "The absolute error is 0\n",
      "\n",
      "\n",
      "Test 3\n",
      "The number of data vectors determined to be 346 but is actually 346\n",
      "The absolute error is 0\n",
      "\n",
      "\n",
      "Test 4\n",
      "The dimension of the data is determined to be 5 but is actually 5\n",
      "The absolute error is 0\n",
      "\n",
      "\n",
      "Test 5\n",
      "The number of clusters is determined to be 4 but is actually 4\n",
      "The absolute error is 0\n",
      "\n",
      "\n"
     ]
    }
   ],
   "source": [
    "# generate data for testing implementation\n",
    "from sklearn.datasets import make_blobs\n",
    "\n",
    "def test_Kmeans():\n",
    "    # tests that KMean_dadson catches the correct number of data vectors\n",
    "    X, y = make_blobs(n_samples=100, centers=3, n_features=2)\n",
    "    kmeans = KMean_dadson(n_clusters = 3, max_iter = 300)\n",
    "    ATrue = 100\n",
    "    AComp = len(kmeans(X)[1])\n",
    "    print(\"Test 1\")\n",
    "    print(\"The number of data vectors determined to be {0} but is actually {1}\".format(AComp,ATrue))\n",
    "    print(\"The absolute error is %0.15g\" % (abs(ATrue - AComp)))\n",
    "    print('\\n')\n",
    "    \n",
    "    # tests that KMean_dadson catches the correct size of each data vector\n",
    "    X, y = make_blobs(n_samples=100, centers=3, n_features=2)\n",
    "    kmeans = KMean_dadson(n_clusters = 3, max_iter = 300)\n",
    "    AComp = len(kmeans(X)[0][0])\n",
    "    ATrue = 2\n",
    "    print(\"Test 2\")\n",
    "    print(\"The dimension of the data is determined to be {0} but is actually {1}\".format(AComp,ATrue))\n",
    "    print(\"The absolute error is %0.15g\" % (abs(ATrue - AComp)))\n",
    "    print('\\n')\n",
    "    \n",
    "    # tests that KMean_dadson catches the correct number of data vectors\n",
    "    X, y = make_blobs(n_samples=346, centers=4, n_features=5)\n",
    "    kmeans = KMean_dadson(n_clusters = 4, max_iter = 300)\n",
    "    ATrue = 346\n",
    "    AComp = len(kmeans(X)[1])\n",
    "    print(\"Test 3\")\n",
    "    print(\"The number of data vectors determined to be {0} but is actually {1}\".format(AComp,ATrue))\n",
    "    print(\"The absolute error is %0.15g\" % (abs(ATrue - AComp)))\n",
    "    print('\\n')\n",
    "    \n",
    "    # tests that KMean_dadson catches the correct size of each data vector\n",
    "    X, y = make_blobs(n_samples=346, centers=4, n_features=5)\n",
    "    kmeans = KMean_dadson(n_clusters = 4, max_iter = 300)\n",
    "    AComp = len(kmeans(X)[0][0])\n",
    "    ATrue = 5\n",
    "    print(\"Test 4\")\n",
    "    print(\"The dimension of the data is determined to be {0} but is actually {1}\".format(AComp,ATrue))\n",
    "    print(\"The absolute error is %0.15g\" % (abs(ATrue - AComp)))\n",
    "    print('\\n')\n",
    "    \n",
    "    # tests that k unique targets are created \n",
    "    X, y = make_blobs(n_samples=346, centers=4, n_features=5)\n",
    "    kmeans = KMean_dadson(n_clusters = 4, max_iter = 300)\n",
    "    AComp = len(kmeans(X)[0])\n",
    "    ATrue = 4\n",
    "    print(\"Test 5\")\n",
    "    print(\"The number of clusters is determined to be {0} but is actually {1}\".format(AComp,ATrue))\n",
    "    print(\"The absolute error is %0.15g\" % (abs(ATrue - AComp)))\n",
    "    print('\\n')\n",
    "    \n",
    "    \n",
    "test_Kmeans()"
   ]
  },
  {
   "cell_type": "code",
   "execution_count": 6,
   "id": "28e1eace",
   "metadata": {},
   "outputs": [
    {
     "data": {
      "text/plain": [
       "{'data': array([[5.1, 3.5, 1.4, 0.2],\n",
       "        [4.9, 3. , 1.4, 0.2],\n",
       "        [4.7, 3.2, 1.3, 0.2],\n",
       "        [4.6, 3.1, 1.5, 0.2],\n",
       "        [5. , 3.6, 1.4, 0.2],\n",
       "        [5.4, 3.9, 1.7, 0.4],\n",
       "        [4.6, 3.4, 1.4, 0.3],\n",
       "        [5. , 3.4, 1.5, 0.2],\n",
       "        [4.4, 2.9, 1.4, 0.2],\n",
       "        [4.9, 3.1, 1.5, 0.1],\n",
       "        [5.4, 3.7, 1.5, 0.2],\n",
       "        [4.8, 3.4, 1.6, 0.2],\n",
       "        [4.8, 3. , 1.4, 0.1],\n",
       "        [4.3, 3. , 1.1, 0.1],\n",
       "        [5.8, 4. , 1.2, 0.2],\n",
       "        [5.7, 4.4, 1.5, 0.4],\n",
       "        [5.4, 3.9, 1.3, 0.4],\n",
       "        [5.1, 3.5, 1.4, 0.3],\n",
       "        [5.7, 3.8, 1.7, 0.3],\n",
       "        [5.1, 3.8, 1.5, 0.3],\n",
       "        [5.4, 3.4, 1.7, 0.2],\n",
       "        [5.1, 3.7, 1.5, 0.4],\n",
       "        [4.6, 3.6, 1. , 0.2],\n",
       "        [5.1, 3.3, 1.7, 0.5],\n",
       "        [4.8, 3.4, 1.9, 0.2],\n",
       "        [5. , 3. , 1.6, 0.2],\n",
       "        [5. , 3.4, 1.6, 0.4],\n",
       "        [5.2, 3.5, 1.5, 0.2],\n",
       "        [5.2, 3.4, 1.4, 0.2],\n",
       "        [4.7, 3.2, 1.6, 0.2],\n",
       "        [4.8, 3.1, 1.6, 0.2],\n",
       "        [5.4, 3.4, 1.5, 0.4],\n",
       "        [5.2, 4.1, 1.5, 0.1],\n",
       "        [5.5, 4.2, 1.4, 0.2],\n",
       "        [4.9, 3.1, 1.5, 0.2],\n",
       "        [5. , 3.2, 1.2, 0.2],\n",
       "        [5.5, 3.5, 1.3, 0.2],\n",
       "        [4.9, 3.6, 1.4, 0.1],\n",
       "        [4.4, 3. , 1.3, 0.2],\n",
       "        [5.1, 3.4, 1.5, 0.2],\n",
       "        [5. , 3.5, 1.3, 0.3],\n",
       "        [4.5, 2.3, 1.3, 0.3],\n",
       "        [4.4, 3.2, 1.3, 0.2],\n",
       "        [5. , 3.5, 1.6, 0.6],\n",
       "        [5.1, 3.8, 1.9, 0.4],\n",
       "        [4.8, 3. , 1.4, 0.3],\n",
       "        [5.1, 3.8, 1.6, 0.2],\n",
       "        [4.6, 3.2, 1.4, 0.2],\n",
       "        [5.3, 3.7, 1.5, 0.2],\n",
       "        [5. , 3.3, 1.4, 0.2],\n",
       "        [7. , 3.2, 4.7, 1.4],\n",
       "        [6.4, 3.2, 4.5, 1.5],\n",
       "        [6.9, 3.1, 4.9, 1.5],\n",
       "        [5.5, 2.3, 4. , 1.3],\n",
       "        [6.5, 2.8, 4.6, 1.5],\n",
       "        [5.7, 2.8, 4.5, 1.3],\n",
       "        [6.3, 3.3, 4.7, 1.6],\n",
       "        [4.9, 2.4, 3.3, 1. ],\n",
       "        [6.6, 2.9, 4.6, 1.3],\n",
       "        [5.2, 2.7, 3.9, 1.4],\n",
       "        [5. , 2. , 3.5, 1. ],\n",
       "        [5.9, 3. , 4.2, 1.5],\n",
       "        [6. , 2.2, 4. , 1. ],\n",
       "        [6.1, 2.9, 4.7, 1.4],\n",
       "        [5.6, 2.9, 3.6, 1.3],\n",
       "        [6.7, 3.1, 4.4, 1.4],\n",
       "        [5.6, 3. , 4.5, 1.5],\n",
       "        [5.8, 2.7, 4.1, 1. ],\n",
       "        [6.2, 2.2, 4.5, 1.5],\n",
       "        [5.6, 2.5, 3.9, 1.1],\n",
       "        [5.9, 3.2, 4.8, 1.8],\n",
       "        [6.1, 2.8, 4. , 1.3],\n",
       "        [6.3, 2.5, 4.9, 1.5],\n",
       "        [6.1, 2.8, 4.7, 1.2],\n",
       "        [6.4, 2.9, 4.3, 1.3],\n",
       "        [6.6, 3. , 4.4, 1.4],\n",
       "        [6.8, 2.8, 4.8, 1.4],\n",
       "        [6.7, 3. , 5. , 1.7],\n",
       "        [6. , 2.9, 4.5, 1.5],\n",
       "        [5.7, 2.6, 3.5, 1. ],\n",
       "        [5.5, 2.4, 3.8, 1.1],\n",
       "        [5.5, 2.4, 3.7, 1. ],\n",
       "        [5.8, 2.7, 3.9, 1.2],\n",
       "        [6. , 2.7, 5.1, 1.6],\n",
       "        [5.4, 3. , 4.5, 1.5],\n",
       "        [6. , 3.4, 4.5, 1.6],\n",
       "        [6.7, 3.1, 4.7, 1.5],\n",
       "        [6.3, 2.3, 4.4, 1.3],\n",
       "        [5.6, 3. , 4.1, 1.3],\n",
       "        [5.5, 2.5, 4. , 1.3],\n",
       "        [5.5, 2.6, 4.4, 1.2],\n",
       "        [6.1, 3. , 4.6, 1.4],\n",
       "        [5.8, 2.6, 4. , 1.2],\n",
       "        [5. , 2.3, 3.3, 1. ],\n",
       "        [5.6, 2.7, 4.2, 1.3],\n",
       "        [5.7, 3. , 4.2, 1.2],\n",
       "        [5.7, 2.9, 4.2, 1.3],\n",
       "        [6.2, 2.9, 4.3, 1.3],\n",
       "        [5.1, 2.5, 3. , 1.1],\n",
       "        [5.7, 2.8, 4.1, 1.3],\n",
       "        [6.3, 3.3, 6. , 2.5],\n",
       "        [5.8, 2.7, 5.1, 1.9],\n",
       "        [7.1, 3. , 5.9, 2.1],\n",
       "        [6.3, 2.9, 5.6, 1.8],\n",
       "        [6.5, 3. , 5.8, 2.2],\n",
       "        [7.6, 3. , 6.6, 2.1],\n",
       "        [4.9, 2.5, 4.5, 1.7],\n",
       "        [7.3, 2.9, 6.3, 1.8],\n",
       "        [6.7, 2.5, 5.8, 1.8],\n",
       "        [7.2, 3.6, 6.1, 2.5],\n",
       "        [6.5, 3.2, 5.1, 2. ],\n",
       "        [6.4, 2.7, 5.3, 1.9],\n",
       "        [6.8, 3. , 5.5, 2.1],\n",
       "        [5.7, 2.5, 5. , 2. ],\n",
       "        [5.8, 2.8, 5.1, 2.4],\n",
       "        [6.4, 3.2, 5.3, 2.3],\n",
       "        [6.5, 3. , 5.5, 1.8],\n",
       "        [7.7, 3.8, 6.7, 2.2],\n",
       "        [7.7, 2.6, 6.9, 2.3],\n",
       "        [6. , 2.2, 5. , 1.5],\n",
       "        [6.9, 3.2, 5.7, 2.3],\n",
       "        [5.6, 2.8, 4.9, 2. ],\n",
       "        [7.7, 2.8, 6.7, 2. ],\n",
       "        [6.3, 2.7, 4.9, 1.8],\n",
       "        [6.7, 3.3, 5.7, 2.1],\n",
       "        [7.2, 3.2, 6. , 1.8],\n",
       "        [6.2, 2.8, 4.8, 1.8],\n",
       "        [6.1, 3. , 4.9, 1.8],\n",
       "        [6.4, 2.8, 5.6, 2.1],\n",
       "        [7.2, 3. , 5.8, 1.6],\n",
       "        [7.4, 2.8, 6.1, 1.9],\n",
       "        [7.9, 3.8, 6.4, 2. ],\n",
       "        [6.4, 2.8, 5.6, 2.2],\n",
       "        [6.3, 2.8, 5.1, 1.5],\n",
       "        [6.1, 2.6, 5.6, 1.4],\n",
       "        [7.7, 3. , 6.1, 2.3],\n",
       "        [6.3, 3.4, 5.6, 2.4],\n",
       "        [6.4, 3.1, 5.5, 1.8],\n",
       "        [6. , 3. , 4.8, 1.8],\n",
       "        [6.9, 3.1, 5.4, 2.1],\n",
       "        [6.7, 3.1, 5.6, 2.4],\n",
       "        [6.9, 3.1, 5.1, 2.3],\n",
       "        [5.8, 2.7, 5.1, 1.9],\n",
       "        [6.8, 3.2, 5.9, 2.3],\n",
       "        [6.7, 3.3, 5.7, 2.5],\n",
       "        [6.7, 3. , 5.2, 2.3],\n",
       "        [6.3, 2.5, 5. , 1.9],\n",
       "        [6.5, 3. , 5.2, 2. ],\n",
       "        [6.2, 3.4, 5.4, 2.3],\n",
       "        [5.9, 3. , 5.1, 1.8]]),\n",
       " 'target': array([0, 0, 0, 0, 0, 0, 0, 0, 0, 0, 0, 0, 0, 0, 0, 0, 0, 0, 0, 0, 0, 0,\n",
       "        0, 0, 0, 0, 0, 0, 0, 0, 0, 0, 0, 0, 0, 0, 0, 0, 0, 0, 0, 0, 0, 0,\n",
       "        0, 0, 0, 0, 0, 0, 1, 1, 1, 1, 1, 1, 1, 1, 1, 1, 1, 1, 1, 1, 1, 1,\n",
       "        1, 1, 1, 1, 1, 1, 1, 1, 1, 1, 1, 1, 1, 1, 1, 1, 1, 1, 1, 1, 1, 1,\n",
       "        1, 1, 1, 1, 1, 1, 1, 1, 1, 1, 1, 1, 2, 2, 2, 2, 2, 2, 2, 2, 2, 2,\n",
       "        2, 2, 2, 2, 2, 2, 2, 2, 2, 2, 2, 2, 2, 2, 2, 2, 2, 2, 2, 2, 2, 2,\n",
       "        2, 2, 2, 2, 2, 2, 2, 2, 2, 2, 2, 2, 2, 2, 2, 2, 2, 2]),\n",
       " 'frame': None,\n",
       " 'target_names': array(['setosa', 'versicolor', 'virginica'], dtype='<U10'),\n",
       " 'DESCR': '.. _iris_dataset:\\n\\nIris plants dataset\\n--------------------\\n\\n**Data Set Characteristics:**\\n\\n    :Number of Instances: 150 (50 in each of three classes)\\n    :Number of Attributes: 4 numeric, predictive attributes and the class\\n    :Attribute Information:\\n        - sepal length in cm\\n        - sepal width in cm\\n        - petal length in cm\\n        - petal width in cm\\n        - class:\\n                - Iris-Setosa\\n                - Iris-Versicolour\\n                - Iris-Virginica\\n                \\n    :Summary Statistics:\\n\\n    ============== ==== ==== ======= ===== ====================\\n                    Min  Max   Mean    SD   Class Correlation\\n    ============== ==== ==== ======= ===== ====================\\n    sepal length:   4.3  7.9   5.84   0.83    0.7826\\n    sepal width:    2.0  4.4   3.05   0.43   -0.4194\\n    petal length:   1.0  6.9   3.76   1.76    0.9490  (high!)\\n    petal width:    0.1  2.5   1.20   0.76    0.9565  (high!)\\n    ============== ==== ==== ======= ===== ====================\\n\\n    :Missing Attribute Values: None\\n    :Class Distribution: 33.3% for each of 3 classes.\\n    :Creator: R.A. Fisher\\n    :Donor: Michael Marshall (MARSHALL%PLU@io.arc.nasa.gov)\\n    :Date: July, 1988\\n\\nThe famous Iris database, first used by Sir R.A. Fisher. The dataset is taken\\nfrom Fisher\\'s paper. Note that it\\'s the same as in R, but not as in the UCI\\nMachine Learning Repository, which has two wrong data points.\\n\\nThis is perhaps the best known database to be found in the\\npattern recognition literature.  Fisher\\'s paper is a classic in the field and\\nis referenced frequently to this day.  (See Duda & Hart, for example.)  The\\ndata set contains 3 classes of 50 instances each, where each class refers to a\\ntype of iris plant.  One class is linearly separable from the other 2; the\\nlatter are NOT linearly separable from each other.\\n\\n.. topic:: References\\n\\n   - Fisher, R.A. \"The use of multiple measurements in taxonomic problems\"\\n     Annual Eugenics, 7, Part II, 179-188 (1936); also in \"Contributions to\\n     Mathematical Statistics\" (John Wiley, NY, 1950).\\n   - Duda, R.O., & Hart, P.E. (1973) Pattern Classification and Scene Analysis.\\n     (Q327.D83) John Wiley & Sons.  ISBN 0-471-22361-1.  See page 218.\\n   - Dasarathy, B.V. (1980) \"Nosing Around the Neighborhood: A New System\\n     Structure and Classification Rule for Recognition in Partially Exposed\\n     Environments\".  IEEE Transactions on Pattern Analysis and Machine\\n     Intelligence, Vol. PAMI-2, No. 1, 67-71.\\n   - Gates, G.W. (1972) \"The Reduced Nearest Neighbor Rule\".  IEEE Transactions\\n     on Information Theory, May 1972, 431-433.\\n   - See also: 1988 MLC Proceedings, 54-64.  Cheeseman et al\"s AUTOCLASS II\\n     conceptual clustering system finds 3 classes in the data.\\n   - Many, many more ...',\n",
       " 'feature_names': ['sepal length (cm)',\n",
       "  'sepal width (cm)',\n",
       "  'petal length (cm)',\n",
       "  'petal width (cm)'],\n",
       " 'filename': 'iris.csv',\n",
       " 'data_module': 'sklearn.datasets.data'}"
      ]
     },
     "execution_count": 6,
     "metadata": {},
     "output_type": "execute_result"
    }
   ],
   "source": [
    "# EDA of Iris dataset\n",
    "from sklearn import datasets\n",
    "iris = datasets.load_iris()\n",
    "iris"
   ]
  },
  {
   "cell_type": "markdown",
   "id": "5a9815b1",
   "metadata": {},
   "source": [
    "#### Analysis of Iris dataset\n",
    "There are four features used to predict the species of iris: \n",
    "* sepal length (cm)\n",
    "* sepal width (cm)\n",
    "* petal length (cm)\n",
    "* petal width (cm)\n",
    "\n",
    "The flower species:\n",
    "* iris setosa\n",
    "* iris versicolour\n",
    "* iris virginica\n",
    "\n",
    "The purpose of running a clustering algorithm on the dataset is to determine which features constitute a different species of iris. Hence, the amount of clusters is not known in prior. Thus, the first task is to choose the optimal amount of clusters. A good way to do such that is by using the elbow method. The elbow method plots the overall cluster coherence, i.e. the sum of the within cluster coherences, for each value of k in a specified range. "
   ]
  },
  {
   "cell_type": "code",
   "execution_count": 262,
   "id": "d8a5107e",
   "metadata": {},
   "outputs": [
    {
     "name": "stdout",
     "output_type": "stream",
     "text": [
      "There are 150 data vectors of dimension 4.\n"
     ]
    }
   ],
   "source": [
    "data = iris.data\n",
    "target = iris.target\n",
    "print(\"There are {0} data vectors of dimension {1}.\".format(data.shape[0],data.shape[1]))"
   ]
  },
  {
   "cell_type": "markdown",
   "id": "8b879486",
   "metadata": {},
   "source": [
    "### Elbow Method\n",
    "I will first use the elbow method with KMeans algorithm from sklearn.cluster to\n",
    "determine the optimal number of clusters to use in the algorithm. \n",
    "\n",
    "The method consists of plotting the overall cluster coherence, i.e. inertia, for each \n",
    "choice of k number of clusters. "
   ]
  },
  {
   "cell_type": "code",
   "execution_count": 263,
   "id": "f50ea039",
   "metadata": {},
   "outputs": [
    {
     "data": {
      "image/png": "[encoded data removed]",
      "text/plain": [
       "<Figure size 432x288 with 1 Axes>"
      ]
     },
     "metadata": {
      "needs_background": "light"
     },
     "output_type": "display_data"
    }
   ],
   "source": [
    "#Finding the optimum number of clusters for k-means classification\n",
    "from sklearn.cluster import KMeans\n",
    "import matplotlib.pyplot as plt\n",
    "\n",
    "coherence = []\n",
    "\n",
    "for k in range(1,7):\n",
    "    kmeans = KMeans(n_clusters = k, init = 'random', max_iter = 300)\n",
    "    kmeans.fit(data)\n",
    "    coherence.append(kmeans.inertia_)\n",
    "    \n",
    "%matplotlib inline\n",
    "x = np.linspace(1,6,6)\n",
    "y = coherence\n",
    "plt.plot(x,y)\n",
    "plt.title(\"Elbow Method of Iris Dataset\")\n",
    "plt.xlabel(\"Number of Clusters\")\n",
    "plt.ylabel(\"Overall Cluster Coherence\")\n",
    "plt.show()"
   ]
  },
  {
   "cell_type": "markdown",
   "id": "c0063838",
   "metadata": {},
   "source": [
    "#### Cluster Choice\n",
    "The optimal amount of clusters for a given dataset as determined by the elbow method is given by the value of k where the last noticible elbow appears on the plot. As you can see, the last notable elbow appears at k = 3. Therefore, 3 is the optimal amount of clusters to use for this dataset. Anything over 3 clusters would overfit the data and not generate very useful classifications of the data."
   ]
  },
  {
   "cell_type": "code",
   "execution_count": 264,
   "id": "addbf74d",
   "metadata": {},
   "outputs": [
    {
     "name": "stdout",
     "output_type": "stream",
     "text": [
      "[1 1 1 1 1 1 1 1 1 1 1 1 1 1 1 1 1 1 1 1 1 1 1 1 1 1 1 1 1 1 1 1 1 1 1 1 1\n",
      " 1 1 1 1 1 1 1 1 1 1 1 1 1 0 0 2 0 0 0 0 0 0 0 0 0 0 0 0 0 0 0 0 0 0 0 0 0\n",
      " 0 0 0 2 0 0 0 0 0 0 0 0 0 0 0 0 0 0 0 0 0 0 0 0 0 0 2 0 2 2 2 2 0 2 2 2 2\n",
      " 2 2 0 0 2 2 2 2 0 2 0 2 0 2 2 0 0 2 2 2 2 2 0 2 2 2 2 0 2 2 2 0 2 2 2 0 2\n",
      " 2 0]\n",
      "[[5.9016129  2.7483871  4.39354839 1.43387097]\n",
      " [5.006      3.428      1.462      0.246     ]\n",
      " [6.85       3.07368421 5.74210526 2.07105263]]\n"
     ]
    }
   ],
   "source": [
    "# Implementing sklearn.cluster.KMeans on Iris\n",
    "kmeans = KMeans(n_clusters = 3, init = 'k-means++', max_iter = 300).fit(data)\n",
    "print(kmeans.labels_)\n",
    "print(kmeans.cluster_centers_)"
   ]
  },
  {
   "cell_type": "code",
   "execution_count": 265,
   "id": "6d1ae5d1",
   "metadata": {},
   "outputs": [
    {
     "name": "stdout",
     "output_type": "stream",
     "text": [
      "[[6.85       3.07368421 5.74210526 2.07105263]\n",
      " [5.9016129  2.7483871  4.39354839 1.43387097]\n",
      " [5.006      3.428      1.462      0.246     ]]\n",
      "[1 1 1 1 1 1 1 1 1 1 1 1 1 1 1 1 1 1 1 1 1 1 1 1 1 1 1 1 1 1 1 1 1 1 1 1 1\n",
      " 1 1 1 1 1 1 1 1 1 1 1 1 1 2 0 2 0 0 0 0 0 0 0 0 0 0 0 0 0 0 0 0 0 0 0 0 0\n",
      " 0 0 0 2 0 0 0 0 0 0 0 0 0 0 0 0 0 0 0 0 0 0 0 0 0 0 2 0 2 2 2 2 0 2 2 2 2\n",
      " 2 2 0 0 2 2 2 2 0 2 0 2 0 2 2 0 0 2 2 2 2 2 0 2 2 2 2 0 2 2 2 0 2 2 2 0 2\n",
      " 2 0]\n"
     ]
    }
   ],
   "source": [
    "# Implementing my kmeans clustering on Iris\n",
    "kmeans2 = KMean_dadson(n_clusters = 3, max_iter = 300)\n",
    "print(kmeans2(data)[0])\n",
    "print(kmeans2(data)[1])"
   ]
  },
  {
   "cell_type": "code",
   "execution_count": 266,
   "id": "adf38626",
   "metadata": {},
   "outputs": [
    {
     "name": "stdout",
     "output_type": "stream",
     "text": [
      "[0 0 0 0 0 0 0 0 0 0 0 0 0 0 0 0 0 0 0 0 0 0 0 0 0 0 0 0 0 0 0 0 0 0 0 0 0\n",
      " 0 0 0 0 0 0 0 0 0 0 0 0 0 1 1 1 1 1 1 1 1 1 1 1 1 1 1 1 1 1 1 1 1 1 1 1 1\n",
      " 1 1 1 1 1 1 1 1 1 1 1 1 1 1 1 1 1 1 1 1 1 1 1 1 1 1 2 2 2 2 2 2 2 2 2 2 2\n",
      " 2 2 2 2 2 2 2 2 2 2 2 2 2 2 2 2 2 2 2 2 2 2 2 2 2 2 2 2 2 2 2 2 2 2 2 2 2\n",
      " 2 2]\n"
     ]
    }
   ],
   "source": [
    "print(target)"
   ]
  },
  {
   "cell_type": "markdown",
   "id": "30f1faec",
   "metadata": {},
   "source": [
    "### Contingency Table for measuring accuracy\n",
    "\n",
    "For this I used sklearn.metrics.cluser.pair_confusion_matrix to determine the confusion matrix from my implementation of the K-means model to the target values from the iris dataset."
   ]
  },
  {
   "cell_type": "code",
   "execution_count": 267,
   "id": "f62f8e14",
   "metadata": {},
   "outputs": [
    {
     "name": "stdout",
     "output_type": "stream",
     "text": [
      "[[10264  1490]\n",
      " [ 4736  5860]]\n"
     ]
    }
   ],
   "source": [
    "# import the contingency table from sklearn.metrics.cluster\n",
    "from sklearn.metrics.cluster import pair_confusion_matrix\n",
    "predicted = kmeans2(data)[1]\n",
    "actual = target\n",
    "print(pair_confusion_matrix(predicted,actual))"
   ]
  },
  {
   "cell_type": "markdown",
   "id": "7d6f043f",
   "metadata": {},
   "source": [
    "## Conclusion\n",
    "\n",
    "In conclusion, my implementation of the K-means algorithm did not work all that well in clustering the data points. This can be seen by the non-zero values on the off diagnonal in the confusion matrix. \n",
    "\n",
    "Although, as seen in the implementation of my clustering algorithm on the iris dataset as compared to the actual target values, the clusters seem to pair well with the target values generated by the iris dataset.\n",
    "\n",
    "There are a few reasons why the clustering may not perform extremely well. First, in K-means clustering the indexes of the clusters do not necessarily hold valuable information other than what groupings the data belong to. For example, a value of 1 in one clustering does not necessarily hold true for a value of 1 in another clustering. If I were to do this again, I would want to take that into account in my code. Additionally, selecting the starting centroids at random may not produce as good as results, whereas using a k-means++ initialization scheme to initialize the points may generate much better results and converge much faster."
   ]
  }
 ],
 "metadata": {
  "kernelspec": {
   "display_name": "Python 3 (ipykernel)",
   "language": "python",
   "name": "python3"
  },
  "language_info": {
   "codemirror_mode": {
    "name": "ipython",
    "version": 3
   },
   "file_extension": ".py",
   "mimetype": "text/x-python",
   "name": "python",
   "nbconvert_exporter": "python",
   "pygments_lexer": "ipython3",
   "version": "3.9.12"
  }
 },
 "nbformat": 4,
 "nbformat_minor": 5
}
